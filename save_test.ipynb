{
 "cells": [
  {
   "cell_type": "code",
   "execution_count": 1,
   "metadata": {
    "collapsed": true
   },
   "outputs": [],
   "source": [
    "import numpy as np\n",
    "import tensorflow as tf"
   ]
  },
  {
   "cell_type": "code",
   "execution_count": 2,
   "metadata": {
    "collapsed": true
   },
   "outputs": [],
   "source": [
    "# Initialize weights and bias\n",
    "def weight_variable(name, shape):\n",
    "    return tf.get_variable(name, shape = shape, initializer = tf.contrib.layers.xavier_initializer())\n",
    "\n",
    "def bias_variable(name, shape):\n",
    "    return tf.get_variable(name, shape = shape, initializer = tf.contrib.layers.xavier_initializer())"
   ]
  },
  {
   "cell_type": "code",
   "execution_count": 9,
   "metadata": {
    "collapsed": false
   },
   "outputs": [],
   "source": [
    "tf.reset_default_graph()\n",
    "\n",
    "v1 = weight_variable('var_01_blabla', [2,2])\n",
    "v2 = weight_variable('var_02_blabla', [2,2])\n",
    "\n",
    "trainable_variables = tf.trainable_variables()\n",
    "saver_v1 = tf.train.Saver(var_list = [var for var in trainable_variables if var.name.startswith('var_01')])\n",
    "saver_v2 = tf.train.Saver(var_list = [var for var in trainable_variables if var.name.startswith('var_02')])\n",
    "\n",
    "init_op = tf.global_variables_initializer()"
   ]
  },
  {
   "cell_type": "code",
   "execution_count": 4,
   "metadata": {
    "collapsed": false,
    "scrolled": false
   },
   "outputs": [
    {
     "name": "stdout",
     "output_type": "stream",
     "text": [
      "[[ 1.0600985  -0.93431544]\n",
      " [ 0.8971716  -0.3160807 ]] [[ 0.24514699  0.11335897]\n",
      " [-0.9443629   1.0798439 ]]\n"
     ]
    }
   ],
   "source": [
    "with tf.Session() as sess:\n",
    "    sess.run(init_op)\n",
    "    saver_v1.save(sess, \"save/model_01.ckpt\")\n",
    "    saver_v2.save(sess, \"save/model_02.ckpt\")\n",
    "    temp_v1 = v1.eval()\n",
    "    temp_v2 = v2.eval()\n",
    "\n",
    "print(temp_v1, temp_v2)"
   ]
  },
  {
   "cell_type": "code",
   "execution_count": 12,
   "metadata": {
    "collapsed": false
   },
   "outputs": [
    {
     "name": "stdout",
     "output_type": "stream",
     "text": [
      "INFO:tensorflow:Restoring parameters from save/model_02.ckpt\n",
      "[[ 0.7532333  -0.34438592]\n",
      " [ 0.5106542  -1.0954266 ]] [[ 0.24514699  0.11335897]\n",
      " [-0.9443629   1.0798439 ]]\n"
     ]
    }
   ],
   "source": [
    "with tf.Session() as sess:\n",
    "    sess.run(init_op)\n",
    "#     saver_v1.restore(sess, \"save/model_01.ckpt\")\n",
    "    saver_v2.restore(sess, \"save/model_02.ckpt\")\n",
    "    temp_v1 = v1.eval()\n",
    "    temp_v2 = v2.eval()\n",
    "\n",
    "print(temp_v1, temp_v2)"
   ]
  },
  {
   "cell_type": "code",
   "execution_count": null,
   "metadata": {
    "collapsed": true
   },
   "outputs": [],
   "source": []
  }
 ],
 "metadata": {
  "kernelspec": {
   "display_name": "Python [default]",
   "language": "python",
   "name": "python3"
  },
  "language_info": {
   "codemirror_mode": {
    "name": "ipython",
    "version": 3
   },
   "file_extension": ".py",
   "mimetype": "text/x-python",
   "name": "python",
   "nbconvert_exporter": "python",
   "pygments_lexer": "ipython3",
   "version": "3.5.2"
  }
 },
 "nbformat": 4,
 "nbformat_minor": 2
}
