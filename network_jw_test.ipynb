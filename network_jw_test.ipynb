{
 "cells": [
  {
   "cell_type": "code",
   "execution_count": 1,
   "metadata": {
    "collapsed": true
   },
   "outputs": [],
   "source": [
    "import time\n",
    "import tensorflow as tf\n",
    "import numpy as np\n",
    "import matplotlib.pyplot as plt\n",
    "import scipy.io\n",
    "import os\n",
    "\n",
    "# Initialize weights and bias \n",
    "def weight_variable(name, shape_in):\n",
    "    return tf.get_variable(name,shape=shape_in, initializer=tf.contrib.layers.xavier_initializer())\n",
    "\n",
    "def bias_variable(name, shape_in):\n",
    "    return tf.get_variable(name,shape=shape_in, initializer=tf.contrib.layers.xavier_initializer())"
   ]
  },
  {
   "cell_type": "code",
   "execution_count": 2,
   "metadata": {
    "collapsed": false
   },
   "outputs": [
    {
     "name": "stdout",
     "output_type": "stream",
     "text": [
      "(500000, 6, 6) (500000, 6, 6)\n",
      "[0.66666667 1.         1.         1.24999998 0.8333333  0.        ]\n",
      "[0.66666667 1.         1.         1.24999998 0.8333333  0.        ]\n"
     ]
    }
   ],
   "source": [
    "data1 = scipy.io.loadmat('data/dataset.mat')\n",
    "data2 = scipy.io.loadmat('data/dataset2.mat')\n",
    "\n",
    "data_x = np.concatenate([data1['X'], data2['X']], axis = 0)\n",
    "data_y = np.concatenate([data1['Y'], data2['Y']], axis = 0)\n",
    "\n",
    "normalization_factor = [1.0/5, 1.0/5, 1.0/20, 1.0/20, 1.0, 1.0]\n",
    "normalization_bias = [0.0, 0, 0, 0, 0, 0]\n",
    "\n",
    "data_x[:,4,:] = 1/data_x[:,4,:]\n",
    "data_y[:,4,:] = 1/data_y[:,4,:]\n",
    "data_x[:,5,:] = 1/data_x[:,5,:]\n",
    "data_y[:,5,:] = 1/data_y[:,5,:]\n",
    "data_x[:,4,5] = 0\n",
    "data_y[:,4,5] = 0\n",
    "data_x[:,5,5] = 0\n",
    "data_y[:,5,5] = 0\n",
    "\n",
    "for i in range(len(normalization_factor)):\n",
    "    data_x[:,i,:] = data_x[:,i,:] * normalization_factor[i] + normalization_bias[i]\n",
    "    data_y[:,i,:] = data_y[:,i,:] * normalization_factor[i] + normalization_bias[i]\n",
    "\n",
    "print(np.shape(data_x), np.shape(data_y))\n",
    "\n",
    "print(data_x[0,5,:])\n",
    "print(data_y[0,5,:])\n"
   ]
  },
  {
   "cell_type": "code",
   "execution_count": null,
   "metadata": {
    "collapsed": false
   },
   "outputs": [],
   "source": [
    "\n",
    " "
   ]
  },
  {
   "cell_type": "code",
   "execution_count": 3,
   "metadata": {
    "collapsed": false
   },
   "outputs": [
    {
     "name": "stdout",
     "output_type": "stream",
     "text": [
      "WARNING:tensorflow:From C:\\Program Files\\Anaconda3\\lib\\site-packages\\tensorflow\\contrib\\learn\\python\\learn\\datasets\\base.py:198: retry (from tensorflow.contrib.learn.python.learn.datasets.base) is deprecated and will be removed in a future version.\n",
      "Instructions for updating:\n",
      "Use the retry module or similar alternatives.\n",
      "Tensor(\"Reshape_1:0\", shape=(?, 4, 6), dtype=float32)\n",
      "()\n"
     ]
    }
   ],
   "source": [
    "tf.reset_default_graph()\n",
    "\n",
    "sess = tf.InteractiveSession()\n",
    "\n",
    "\n",
    "object_state = np.shape(data_x)[-2]\n",
    "object_num = np.shape(data_x)[-1]\n",
    "# object_num = 1\n",
    "\n",
    "relation_num = 30\n",
    "relation_state = 1\n",
    "\n",
    "external_num = 1\n",
    "\n",
    "object_input = tf.placeholder(tf.float32, [None, object_state, object_num])\n",
    "\n",
    "loss_state_num = 4\n",
    "\n",
    "y = tf.placeholder(tf.float32, [None, loss_state_num, object_num])\n",
    "\n",
    "input_flatten = tf.reshape(object_input, [-1, object_state*object_num])\n",
    "\n",
    "w1 = weight_variable('w1', [object_state*object_num, 1000])\n",
    "b1 = weight_variable('b1', [1000])\n",
    "w2 = weight_variable('w2', [1000, 1000])\n",
    "b2 = weight_variable('b2', [1000])\n",
    "w3 = weight_variable('w3', [1000, 1000])\n",
    "b3 = weight_variable('b3', [1000])\n",
    "\n",
    "w4 = weight_variable('w4', [1000, loss_state_num*object_num])\n",
    "b4 = weight_variable('b4', [loss_state_num*object_num])\n",
    "\n",
    "h1 = tf.nn.relu(tf.matmul(input_flatten, w1) + b1)\n",
    "h2 = tf.nn.relu(tf.matmul(h1, w2) + b2)\n",
    "h3 = tf.nn.relu(tf.matmul(h2, w3) + b3)\n",
    "h4 = tf.matmul(h3, w4) + b4\n",
    "\n",
    "predictions = tf.reshape(h4, [-1, loss_state_num, object_num])\n",
    "\n",
    "print(predictions)\n",
    "\n",
    "loss = tf.reduce_mean(tf.reduce_mean(tf.reduce_mean(tf.square(y - predictions), axis = 1), axis = 1)) + 1\n",
    "\n",
    "print(loss.get_shape())\n",
    "\n",
    "lr = tf.placeholder(tf.float32)\n",
    "\n",
    "train_step = tf.train.AdamOptimizer(lr).minimize(loss)\n",
    "\n",
    "sess.run(tf.global_variables_initializer())"
   ]
  },
  {
   "cell_type": "code",
   "execution_count": 4,
   "metadata": {
    "collapsed": false,
    "scrolled": false
   },
   "outputs": [
    {
     "name": "stdout",
     "output_type": "stream",
     "text": [
      "epoch 1/5, [============================= ] loss = 1.05117\n",
      "epoch 1/5, loss= 1.05301\n",
      "epoch 2/5, [============================= ] loss = 1.00916\n",
      "epoch 2/5, loss= 1.01001\n",
      "epoch 3/5, [============================= ] loss = 1.00365\n",
      "epoch 3/5, loss= 1.00358\n",
      "epoch 4/5, [============================= ] loss = 1.00192\n",
      "epoch 4/5, loss= 1.00253\n",
      "epoch 5/5, [============================= ] loss = 1.00162\n",
      "epoch 5/5, loss= 1.0024\n"
     ]
    }
   ],
   "source": [
    "\n",
    "\n",
    "batch_size = 256\n",
    "epoch_num = 5\n",
    "\n",
    "train_data_num = np.shape(data_x)[0]\n",
    "\n",
    "for epoch in range(epoch_num):\n",
    "    order = np.arange(train_data_num)\n",
    "    np.random.shuffle(order)\n",
    "    temp_train_x = data_x[order]\n",
    "    temp_train_y = data_y[order]\n",
    "    for batch_step in range(int(train_data_num/batch_size)+1):\n",
    "        batch_idx = [batch_step*batch_size, (batch_step+1)*batch_size]\n",
    "        if batch_idx[1] > train_data_num: batch_idx[1] = train_data_num\n",
    "        \n",
    "        batch_x = temp_train_x[batch_idx[0]:batch_idx[1]]\n",
    "        batch_y = temp_train_y[batch_idx[0]:batch_idx[1]]\n",
    "        batch_y = batch_y[:,0:loss_state_num,:]\n",
    "\n",
    "                    \n",
    "        train_step.run(feed_dict={object_input: batch_x, y: batch_y,lr: 0.000001})\n",
    "        loss_value = loss.eval(feed_dict={object_input: batch_x, y: batch_y})\n",
    "        print_num = int((batch_step/(int(train_data_num/batch_size)+1))*30)\n",
    "        print_string = \"epoch %d/%d, [\"%(epoch+1,epoch_num)+\"=\"*print_num+\" \"*(30-print_num) +\"] loss = \"+\"%g\"%(loss_value)\n",
    "        print(print_string, end=\"\\r\")\n",
    "        \n",
    "#         print(relation_check)\n",
    "#         print(batch_Rs[0,:,:])\n",
    "#         print('\\n')\n",
    "#         print(batch_Rr[0,:,:])        \n",
    "#         print(np.shape(batch_x),np.shape(batch_y))\n",
    "    \n",
    "    sample = 2048\n",
    "    temp_loss=np.zeros([int(train_data_num/sample)+1])\n",
    "    for batch_step in range(int(train_data_num/sample)+1):\n",
    "        start = batch_step*sample\n",
    "        end = (batch_step+1)*sample\n",
    "        if end > train_data_num:\n",
    "            end = train_data_num\n",
    "            \n",
    "        batch_x = temp_train_x[start:end]\n",
    "        batch_y = temp_train_y[start:end]\n",
    "        batch_y = batch_y[:,0:loss_state_num,:]\n",
    "\n",
    "        loss_value = loss.eval(feed_dict={object_input: batch_x, y: batch_y})\n",
    "        temp_loss[batch_step] = loss_value * (end - start)\n",
    "        # print(\"temp accuracy %g\"%temp_temp)\n",
    "    temp_loss = np.sum(temp_loss)/train_data_num\n",
    "    \n",
    "    print(\"\\nepoch %d/%d, loss= %g\"%(epoch+1, epoch_num, temp_loss))\n",
    "    "
   ]
  },
  {
   "cell_type": "code",
   "execution_count": 5,
   "metadata": {
    "collapsed": false
   },
   "outputs": [
    {
     "name": "stdout",
     "output_type": "stream",
     "text": [
      "[<tf.Variable 'w1:0' shape=(36, 1000) dtype=float32_ref>, <tf.Variable 'b1:0' shape=(1000,) dtype=float32_ref>, <tf.Variable 'w2:0' shape=(1000, 1000) dtype=float32_ref>, <tf.Variable 'b2:0' shape=(1000,) dtype=float32_ref>, <tf.Variable 'w3:0' shape=(1000, 1000) dtype=float32_ref>, <tf.Variable 'b3:0' shape=(1000,) dtype=float32_ref>, <tf.Variable 'w4:0' shape=(1000, 24) dtype=float32_ref>, <tf.Variable 'b4:0' shape=(24,) dtype=float32_ref>]\n"
     ]
    }
   ],
   "source": [
    "print(tf.trainable_variables(scope=None))"
   ]
  },
  {
   "cell_type": "code",
   "execution_count": 6,
   "metadata": {
    "collapsed": false,
    "scrolled": false
   },
   "outputs": [
    {
     "name": "stdout",
     "output_type": "stream",
     "text": [
      "[[[-0.03005981  0.15432284 -0.34418204  0.52234626 -0.41993952\n",
      "    0.        ]\n",
      "  [ 0.22763882 -0.57479115  0.03169031 -0.36189108 -0.54110451\n",
      "    0.        ]\n",
      "  [-0.17974668 -0.16294408  0.03535991  0.30461397 -0.34212151\n",
      "    0.        ]\n",
      "  [-0.21508799  0.15164622  0.17765149 -0.038905    0.22079821\n",
      "    0.        ]\n",
      "  [ 0.66666667  1.          1.          1.24999998  0.8333333\n",
      "    0.        ]\n",
      "  [ 0.66666667  1.          1.          1.24999998  0.8333333\n",
      "    0.        ]]\n",
      "\n",
      " [[-0.04443955  0.14128731 -0.34135325  0.54671535 -0.44730926\n",
      "    0.        ]\n",
      "  [ 0.21043177 -0.56265945  0.04590243 -0.36500349 -0.52344065\n",
      "    0.        ]\n",
      "  [-0.17974668 -0.16294408  0.03535991  0.30461397 -0.34212151\n",
      "    0.        ]\n",
      "  [-0.21508799  0.15164622  0.17765149 -0.038905    0.22079821\n",
      "    0.        ]\n",
      "  [ 0.66666667  1.          1.          1.24999998  0.8333333\n",
      "    0.        ]\n",
      "  [ 0.66666667  1.          1.          1.24999998  0.8333333\n",
      "    0.        ]]\n",
      "\n",
      " [[-0.05881928  0.12825179 -0.33852446  0.57108445 -0.47467899\n",
      "    0.        ]\n",
      "  [ 0.19322473 -0.55052776  0.06011455 -0.3681159  -0.50577679\n",
      "    0.        ]\n",
      "  [-0.17974668 -0.16294408  0.03535991  0.30461397 -0.34212151\n",
      "    0.        ]\n",
      "  [-0.21508799  0.15164622  0.17765149 -0.038905    0.22079821\n",
      "    0.        ]\n",
      "  [ 0.66666667  1.          1.          1.24999998  0.8333333\n",
      "    0.        ]\n",
      "  [ 0.66666667  1.          1.          1.24999998  0.8333333\n",
      "    0.        ]]\n",
      "\n",
      " [[-0.07319902  0.11521627 -0.33569567  0.59545355 -0.50204873\n",
      "    0.        ]\n",
      "  [ 0.17601769 -0.53839607  0.07432667 -0.37122831 -0.48811293\n",
      "    0.        ]\n",
      "  [-0.17974668 -0.16294408  0.03535991  0.30461397 -0.34212151\n",
      "    0.        ]\n",
      "  [-0.21508799  0.15164622  0.17765149 -0.038905    0.22079821\n",
      "    0.        ]\n",
      "  [ 0.66666667  1.          1.          1.24999998  0.8333333\n",
      "    0.        ]\n",
      "  [ 0.66666667  1.          1.          1.24999998  0.8333333\n",
      "    0.        ]]\n",
      "\n",
      " [[-0.08757875  0.10218074 -0.33286688  0.61982265 -0.52941847\n",
      "    0.        ]\n",
      "  [ 0.15881065 -0.52626438  0.08853879 -0.37434072 -0.47044907\n",
      "    0.        ]\n",
      "  [-0.17974668 -0.16294408  0.03535991  0.30461397 -0.34212151\n",
      "    0.        ]\n",
      "  [-0.21508799  0.15164622  0.17765149 -0.038905    0.22079821\n",
      "    0.        ]\n",
      "  [ 0.66666667  1.          1.          1.24999998  0.8333333\n",
      "    0.        ]\n",
      "  [ 0.66666667  1.          1.          1.24999998  0.8333333\n",
      "    0.        ]]]\n",
      "[[[-5.1118046e-02  1.4203015e-01 -3.6718458e-01  5.8263147e-01\n",
      "   -4.6881118e-01 -1.2150407e-02]\n",
      "  [ 2.2093143e-01 -5.8365428e-01  4.0516347e-02 -3.7034035e-01\n",
      "   -5.2148312e-01 -1.9831955e-03]\n",
      "  [-1.7134959e-01 -1.8238837e-01  3.8612902e-02  2.8517258e-01\n",
      "   -3.3216313e-01 -4.3345019e-03]\n",
      "  [-2.0632866e-01  1.7875725e-01  1.6898344e-01 -3.0917570e-02\n",
      "    2.0516320e-01  5.1351935e-03]]\n",
      "\n",
      " [[-6.4872593e-02  1.2820449e-01 -3.6276960e-01  6.0858631e-01\n",
      "   -4.9748489e-01 -1.2128845e-02]\n",
      "  [ 2.0182709e-01 -5.7019478e-01  5.5811882e-02 -3.7433621e-01\n",
      "   -5.0296301e-01 -1.0369122e-03]\n",
      "  [-1.7098346e-01 -1.8066558e-01  3.9255321e-02  2.8629625e-01\n",
      "   -3.3227596e-01 -4.5583621e-03]\n",
      "  [-2.0571122e-01  1.8016711e-01  1.6936137e-01 -3.1810671e-02\n",
      "    2.0473443e-01  4.5485646e-03]]\n",
      "\n",
      " [[-7.8744382e-02  1.1514479e-01 -3.5948643e-01  6.3433981e-01\n",
      "   -5.2570832e-01 -1.1874899e-02]\n",
      "  [ 1.8337424e-01 -5.5765593e-01  7.0574939e-02 -3.7770572e-01\n",
      "   -4.8454624e-01  1.0907650e-04]\n",
      "  [-1.7043933e-01 -1.7885849e-01  3.9840877e-02  2.8650385e-01\n",
      "   -3.3250183e-01 -5.6110993e-03]\n",
      "  [-2.0478794e-01  1.8123418e-01  1.6913845e-01 -3.2372132e-02\n",
      "    2.0452160e-01  4.2985678e-03]]\n",
      "\n",
      " [[-9.2713118e-02  1.0206002e-01 -3.5636151e-01  6.6004574e-01\n",
      "   -5.5383068e-01 -1.1623532e-02]\n",
      "  [ 1.6498971e-01 -5.4510629e-01  8.5160404e-02 -3.8099149e-01\n",
      "   -4.6607715e-01  1.1935234e-03]\n",
      "  [-1.6996327e-01 -1.7697178e-01  4.0334672e-02  2.8656155e-01\n",
      "   -3.3278000e-01 -6.7023188e-03]\n",
      "  [-2.0379648e-01  1.8244758e-01  1.6886234e-01 -3.2888114e-02\n",
      "    2.0428973e-01  3.9975941e-03]]\n",
      "\n",
      " [[-1.0650131e-01  8.9385629e-02 -3.5351014e-01  6.8601972e-01\n",
      "   -5.8177072e-01 -1.1436969e-02]\n",
      "  [ 1.4627062e-01 -5.3257465e-01  9.9855855e-02 -3.8368756e-01\n",
      "   -4.4756812e-01  2.2943318e-03]\n",
      "  [-1.6934261e-01 -1.7504498e-01  4.0444434e-02  2.8664225e-01\n",
      "   -3.3257776e-01 -7.8041367e-03]\n",
      "  [-2.0268878e-01  1.8373984e-01  1.6853258e-01 -3.3365026e-02\n",
      "    2.0432580e-01  3.8855225e-03]]]\n"
     ]
    },
    {
     "data": {
      "image/png": "[encoded data removed]",
      "text/plain": [
       "<matplotlib.figure.Figure at 0x28fc195ea20>"
      ]
     },
     "metadata": {},
     "output_type": "display_data"
    }
   ],
   "source": [
    "plt.figure(1)\n",
    "test_idx = 0000\n",
    "\n",
    "batch_x = data_x[test_idx:(test_idx+5)]\n",
    "batch_y = data_y[test_idx:(test_idx+5)]\n",
    "batch_y = batch_y[:,0:loss_state_num,:]\n",
    "\n",
    "print(batch_x)\n",
    "pred = predictions.eval(feed_dict={object_input: batch_x, y: batch_y})\n",
    "print(pred)\n",
    "plt.plot(data_x[test_idx,0,:], data_x[test_idx,1,:], 'go')\n",
    "plt.plot(data_y[test_idx,0,:], data_y[test_idx,1,:], 'ro')\n",
    "plt.plot(pred[0,0,:], pred[0,1,:], 'gx')\n",
    "plt.axis([-1, 1, -1, 1])\n",
    "plt.show()"
   ]
  },
  {
   "cell_type": "code",
   "execution_count": null,
   "metadata": {
    "collapsed": true
   },
   "outputs": [],
   "source": []
  }
 ],
 "metadata": {
  "kernelspec": {
   "display_name": "Python [default]",
   "language": "python",
   "name": "python3"
  },
  "language_info": {
   "codemirror_mode": {
    "name": "ipython",
    "version": 3
   },
   "file_extension": ".py",
   "mimetype": "text/x-python",
   "name": "python",
   "nbconvert_exporter": "python",
   "pygments_lexer": "ipython3",
   "version": "3.5.2"
  }
 },
 "nbformat": 4,
 "nbformat_minor": 2
}
